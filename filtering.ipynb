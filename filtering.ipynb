{
  "nbformat": 4,
  "nbformat_minor": 0,
  "metadata": {
    "colab": {
      "name": "filtering.ipynb",
      "version": "0.3.2",
      "provenance": [],
      "include_colab_link": true
    },
    "kernelspec": {
      "name": "python3",
      "display_name": "Python 3"
    }
  },
  "cells": [
    {
      "cell_type": "markdown",
      "metadata": {
        "id": "view-in-github",
        "colab_type": "text"
      },
      "source": [
        "<a href=\"https://colab.research.google.com/github/anigasan/AI_Projects_18/blob/master/filtering.ipynb\" target=\"_parent\"><img src=\"https://colab.research.google.com/assets/colab-badge.svg\" alt=\"Open In Colab\"/></a>"
      ]
    },
    {
      "cell_type": "code",
      "metadata": {
        "id": "4W0OhtJYWd8r",
        "colab_type": "code",
        "colab": {}
      },
      "source": [
        "# Run this cell to mount your Google Drive.\n",
        "from google.colab import drive\n",
        "drive.mount('/gdrive')"
      ],
      "execution_count": 0,
      "outputs": []
    },
    {
      "cell_type": "code",
      "metadata": {
        "id": "4dPrsJBpVZuv",
        "colab_type": "code",
        "colab": {}
      },
      "source": [
        "import os\n",
        "from PIL import Image\n",
        "\n",
        "img_dir = \"/gdrive/My Drive/DNNPredict/images/15.1.Bietti crystalline dystrophy\"\n",
        "for filename in os.listdir(img_dir):\n",
        "    filepath = os.path.join(img_dir, filename)\n",
        "    with Image.open(filepath) as im:\n",
        "        x, y = im.size\n",
        "    totalsize = x*y\n",
        "    if totalsize < 9456000:\n",
        "        os.remove(filepath)"
      ],
      "execution_count": 0,
      "outputs": []
    }
  ]
}