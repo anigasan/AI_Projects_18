{
  "nbformat": 4,
  "nbformat_minor": 0,
  "metadata": {
    "colab": {
      "name": "util2.ipynb",
      "version": "0.3.2",
      "provenance": [],
      "include_colab_link": true
    },
    "kernelspec": {
      "name": "python3",
      "display_name": "Python 3"
    }
  },
  "cells": [
    {
      "cell_type": "markdown",
      "metadata": {
        "id": "view-in-github",
        "colab_type": "text"
      },
      "source": [
        "<a href=\"https://colab.research.google.com/github/anigasan/AI_Projects_18/blob/master/util2.ipynb\" target=\"_parent\"><img src=\"https://colab.research.google.com/assets/colab-badge.svg\" alt=\"Open In Colab\"/></a>"
      ]
    },
    {
      "cell_type": "code",
      "metadata": {
        "id": "2D-hvEhAQ0r2",
        "colab_type": "code",
        "outputId": "de14154d-db25-4262-b4cd-2c3ee016e5f4",
        "colab": {
          "base_uri": "https://localhost:8080/",
          "height": 34
        }
      },
      "source": [
        "from google.colab import drive\n",
        "drive.mount('/gdrive')"
      ],
      "execution_count": 0,
      "outputs": [
        {
          "output_type": "stream",
          "text": [
            "Drive already mounted at /gdrive; to attempt to forcibly remount, call drive.mount(\"/gdrive\", force_remount=True).\n"
          ],
          "name": "stdout"
        }
      ]
    },
    {
      "cell_type": "code",
      "metadata": {
        "id": "KjNM5ARlQ-YA",
        "colab_type": "code",
        "colab": {}
      },
      "source": [
        "import os"
      ],
      "execution_count": 0,
      "outputs": []
    },
    {
      "cell_type": "code",
      "metadata": {
        "id": "tqKodQh5RF8S",
        "colab_type": "code",
        "colab": {}
      },
      "source": [
        "def main(): \n",
        "    i = 0\n",
        "      \n",
        "    for filename in os.listdir(\"/gdrive/My Drive/DNNPredict/images/10.1.Optic atrophy\"): \n",
        "        dst =\"opticat\" + str(i) + \".jpg\"\n",
        "        src ='/gdrive/My Drive/DNNPredict/images/10.1.Optic atrophy/'+ filename \n",
        "        dst ='/gdrive/My Drive/DNNPredict/images/10.1.Optic atrophy/'+ dst \n",
        "          \n",
        "        # rename() function will \n",
        "        # rename all the files \n",
        "        os.rename(src, dst) \n",
        "        i += 1"
      ],
      "execution_count": 0,
      "outputs": []
    },
    {
      "cell_type": "code",
      "metadata": {
        "id": "5azEKZ_VRIr8",
        "colab_type": "code",
        "colab": {}
      },
      "source": [
        "# Driver Code \n",
        "if __name__ == '__main__': \n",
        "      \n",
        "    # Calling main() function \n",
        "    main() "
      ],
      "execution_count": 0,
      "outputs": []
    }
  ]
}